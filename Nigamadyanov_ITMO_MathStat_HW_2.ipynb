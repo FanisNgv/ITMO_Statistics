{
  "nbformat": 4,
  "nbformat_minor": 0,
  "metadata": {
    "colab": {
      "provenance": []
    },
    "kernelspec": {
      "name": "python3",
      "display_name": "Python 3"
    },
    "language_info": {
      "name": "python"
    }
  },
  "cells": [
    {
      "cell_type": "markdown",
      "source": [
        "# Домашнее задание №2\n",
        "\n",
        "Тема \"Доверительные интервалы\"\n",
        "\n",
        "Общие положения:\n",
        "- Макс кол-во баллов за ДЗ - 25 баллов\n",
        "- Качество оформления и кода играет роль\n",
        "\n",
        "Список заданий:\n",
        "1.\n",
        "\n"
      ],
      "metadata": {
        "id": "DruAYCH0Lgfc"
      }
    },
    {
      "cell_type": "code",
      "source": [
        "import pandas as pd\n",
        "import numpy as np\n",
        "\n",
        "from scipy import stats\n",
        "\n",
        "import matplotlib.pyplot as plt\n",
        "import seaborn as sns\n",
        "\n",
        "plt.style.use('ggplot')\n",
        "%matplotlib inline"
      ],
      "metadata": {
        "id": "k3XgN0Y7c9cm"
      },
      "execution_count": null,
      "outputs": []
    },
    {
      "cell_type": "code",
      "source": [
        "# задаём стандартное нормальное распределение\n",
        "norm_distr = stats.norm(loc=0, scale=1)\n",
        "\n",
        "# рассчитываем квантиль по заданному уровню значимости\n",
        "alpha = 0.05\n",
        "z = norm_distr.ppf(1 - alpha/2)\n",
        "print(z)"
      ],
      "metadata": {
        "colab": {
          "base_uri": "https://localhost:8080/"
        },
        "id": "nbPsRmOWjBol",
        "outputId": "48eba4df-4504-48fd-e66c-54f944c4d2c4"
      },
      "execution_count": null,
      "outputs": [
        {
          "output_type": "stream",
          "name": "stdout",
          "text": [
            "1.959963984540054\n"
          ]
        }
      ]
    },
    {
      "cell_type": "markdown",
      "source": [
        "## Задание 1  \n",
        "Компания утверждает, что длина шнурков в партии обуви имеет среднее значение 120 см, и стандартное отклонение в партии точно известно и составляет 5 см. Из выборки 25 шнурков было получено среднее значение длины 122 см. Найдите 99%-ый доверительный интервал для среднего значения длины шнурков (1 балл)"
      ],
      "metadata": {
        "id": "YVevs2--cO6W"
      }
    },
    {
      "cell_type": "code",
      "source": [
        "# Вводные данные\n",
        "mean_length = 120\n",
        "std = 5\n",
        "\n",
        "sample_size = 25\n",
        "sample_mean_length = 122\n",
        "\n",
        "alpha = 0.01\n",
        "\n",
        "# Число, меньше которого 99,95% точек в нормальном распределении; Percent point function\n",
        "z = norm_distr.ppf(1 - alpha/2)\n",
        "\n",
        "# Вычисляем границы доверительного интервала\n",
        "left = sample_mean_length - z * std/np.sqrt(sample_size)\n",
        "right = sample_mean_length + z * std/np.sqrt(sample_size)\n",
        "\n",
        "print(f\"Левая и правая границы доверительного интервала: {left}, {right}\")"
      ],
      "metadata": {
        "id": "BNsh0NpChOFQ",
        "colab": {
          "base_uri": "https://localhost:8080/"
        },
        "outputId": "1527b432-b976-440b-e53e-19ceccd91a6c"
      },
      "execution_count": null,
      "outputs": [
        {
          "output_type": "stream",
          "name": "stdout",
          "text": [
            "Левая и правая границы доверительного интервала: 119.4241706964511, 124.5758293035489\n"
          ]
        }
      ]
    },
    {
      "cell_type": "markdown",
      "source": [
        "##Задание 2\n",
        "Компания исследует среднее время выполнения заказа курьерской службой. Было случайным образом выбрано 10 заказов, для которых среднее время доставки составило 45 минут, а выборочная дисперсия — 9 минут. Постройте 95%-ый доверительный интервал для среднего времени доставки заказа (1 балл)"
      ],
      "metadata": {
        "id": "vJVeA5OcdGPs"
      }
    },
    {
      "cell_type": "code",
      "source": [
        "n = 10\n",
        "sample_mean = 45\n",
        "sample_std = 9\n",
        "alpha = 0.05\n",
        "\n",
        "# Понимаем, что в данной задаче у нас нет дисперсии генеральной совокупности\n",
        "# Нахождение критического значения t-распределения\n",
        "\n",
        "t_critical = stats.t.ppf(1 - alpha/2, n - 1)\n",
        "left = sample_mean - t_critical*np.sqrt(sample_std/n)\n",
        "right = sample_mean + t_critical*np.sqrt(sample_std/n)\n",
        "\n",
        "print(f\"Левая и правая границы доверительного интервала: {left}, {right}\")\n"
      ],
      "metadata": {
        "id": "why3o6RzdRJR",
        "colab": {
          "base_uri": "https://localhost:8080/"
        },
        "outputId": "94dfa342-2d67-4821-9ab3-0e606f47993c"
      },
      "execution_count": null,
      "outputs": [
        {
          "output_type": "stream",
          "name": "stdout",
          "text": [
            "Левая и правая границы доверительного интервала: 42.85392928203498, 47.14607071796502\n"
          ]
        }
      ]
    },
    {
      "cell_type": "markdown",
      "source": [
        "## Задание 3\n",
        "Интернет-магазин хочет определить долю пользователей, которые возвращаются для повторной покупки в течение месяца после первой покупки. Для этого он проанализировал выборку из 800 клиентов, и оказалось, что 240 из них сделали повторную покупку в течение месяца. Необходимо определить 95% доверительный интервал для истинной доли клиентов, которые возвращаются для повторной покупки в течение этого времени (1 балл)\n"
      ],
      "metadata": {
        "id": "Eb1KiG10p5sY"
      }
    },
    {
      "cell_type": "code",
      "source": [
        "alpha = 0.05\n",
        "consumers = 800\n",
        "active_consumers = 240\n",
        "\n",
        "p = active_consumers/consumers\n",
        "z = norm_distr.ppf(1 - alpha/2)\n",
        "\n",
        "left = p - z*np.sqrt(p*(1-p)/consumers)\n",
        "right = p + z*np.sqrt(p*(1-p)/consumers)\n",
        "\n",
        "print(f\"Левая и правая границы доверительного интервала для доли: {left}, {right}\")\n"
      ],
      "metadata": {
        "id": "K1XTc0u6qkSO",
        "colab": {
          "base_uri": "https://localhost:8080/"
        },
        "outputId": "a6636d96-5c8c-47e5-b244-68902197d52c"
      },
      "execution_count": null,
      "outputs": [
        {
          "output_type": "stream",
          "name": "stdout",
          "text": [
            "Левая и правая границы доверительного интервала для доли: 0.2682449540949441, 0.3317550459050559\n"
          ]
        }
      ]
    },
    {
      "cell_type": "markdown",
      "source": [
        "## Задание 4\n",
        "Два студента Тимофей и Пётр решают задачи из учебника по статистике, каждый со своей усердностью λ (количество решенных задач в день).\n",
        "Тимофей считает себя более усердным студентом. Необходимо построить доверительный для разности λ1 - λ2 и проверить, правда ли это.\n",
        "Студенты решают задачи независимо друг от друга (1 балл)"
      ],
      "metadata": {
        "id": "_zv2AYYxli49"
      }
    },
    {
      "cell_type": "code",
      "source": [
        "a = [7, 5, 2, 8, 4, 9, 2, 6, 6, 7] # Тимофей\n",
        "b = [3, 3, 3, 9, 9, 2, 2, 2, 2, 9] # Пётр\n",
        "\n",
        "alpha = 0.05\n",
        "\n",
        "tima_mean = np.mean(a)\n",
        "peter_mean = np.mean(b)\n",
        "\n",
        "var_a = np.var(a, ddof=1)\n",
        "var_b = np.var(b, ddof=1)\n",
        "\n",
        "# Объединенная дисперсия\n",
        "n = len(a)\n",
        "m = len(b)\n",
        "pooled_var = ((n - 1) * var_a + (m - 1) * var_b) / (n + m - 2)\n",
        "\n",
        "diff_se = np.sqrt(pooled_var * (1/n + 1/m))\n",
        "\n",
        "t_critical = stats.t.ppf(1 - alpha/2, n + m - 2)\n",
        "\n",
        "difference = tima_mean - peter_mean\n",
        "left = difference - t_critical * diff_se\n",
        "right = difference + t_critical * diff_se\n",
        "\n",
        "print(f\"Левая и правая границы доверительного интервала: {left}, {right}\")"
      ],
      "metadata": {
        "id": "v07b_vXUlhe3",
        "colab": {
          "base_uri": "https://localhost:8080/"
        },
        "outputId": "61dc17f6-e608-48e0-8a3c-19e911fa6529"
      },
      "execution_count": null,
      "outputs": [
        {
          "output_type": "stream",
          "name": "stdout",
          "text": [
            "Левая и правая границы доверительного интервала: -1.4463835370337859, 3.8463835370337844\n"
          ]
        }
      ]
    },
    {
      "cell_type": "markdown",
      "source": [
        "Ввиду того, что число 0 входит в доверительный интервал, то мы не можем утверждать, что между этими средними есть разница. Т.е. Тимофей все-таки хвастунишка и статистически он не столь уж усерднее Петра, хоть и есть бОльший сдвиг в его сторону."
      ],
      "metadata": {
        "id": "8-77vLYr3YPd"
      }
    },
    {
      "cell_type": "markdown",
      "source": [
        "## Задания 5-8 (5 баллов всего)"
      ],
      "metadata": {
        "id": "985Fwrbvxrz8"
      }
    },
    {
      "cell_type": "code",
      "source": [
        "!curl -O https://raw.githubusercontent.com/practical-jupyter/sample-data/refs/heads/master/anime/anime.csv >> anime.csv"
      ],
      "metadata": {
        "colab": {
          "base_uri": "https://localhost:8080/"
        },
        "id": "YNhQJ7Ev2ctk",
        "outputId": "c74780aa-05c2-4c3b-a701-a6609c92be53"
      },
      "execution_count": null,
      "outputs": [
        {
          "output_type": "stream",
          "name": "stdout",
          "text": [
            "  % Total    % Received % Xferd  Average Speed   Time    Time     Time  Current\n",
            "                                 Dload  Upload   Total   Spent    Left  Speed\n",
            "100  778k  100  778k    0     0  1814k      0 --:--:-- --:--:-- --:--:-- 1811k\n"
          ]
        }
      ]
    },
    {
      "cell_type": "markdown",
      "source": [
        "Описание датафрейма:\n",
        "- `anime_id` - ID\n",
        "- `name` - название\n",
        "- `genre` - жанр (строка с пречисление через запятую)\n",
        "- `type` - формат\n",
        "- `episodes` - кол-во эпизодов\n",
        "- `rating` - средний рейтинг\n",
        "- `members` - кол-во смотрящих"
      ],
      "metadata": {
        "id": "ZIWuliOI2maT"
      }
    },
    {
      "cell_type": "code",
      "source": [
        "df_anime = pd.read_csv('anime.csv')\n",
        "df_anime.info()"
      ],
      "metadata": {
        "colab": {
          "base_uri": "https://localhost:8080/"
        },
        "id": "FD4TjaL52gd-",
        "outputId": "9b056385-bb77-4a30-a0b8-46c6b1515bfb"
      },
      "execution_count": null,
      "outputs": [
        {
          "output_type": "stream",
          "name": "stdout",
          "text": [
            "<class 'pandas.core.frame.DataFrame'>\n",
            "RangeIndex: 10486 entries, 0 to 10485\n",
            "Data columns (total 7 columns):\n",
            " #   Column    Non-Null Count  Dtype  \n",
            "---  ------    --------------  -----  \n",
            " 0   anime_id  10486 non-null  int64  \n",
            " 1   name      10486 non-null  object \n",
            " 2   genre     10424 non-null  object \n",
            " 3   type      10463 non-null  object \n",
            " 4   episodes  10486 non-null  object \n",
            " 5   rating    10275 non-null  float64\n",
            " 6   members   10486 non-null  int64  \n",
            "dtypes: float64(1), int64(2), object(4)\n",
            "memory usage: 573.6+ KB\n"
          ]
        }
      ]
    },
    {
      "cell_type": "markdown",
      "source": [
        "## 5. Постройте доверительный интервал для среднего рейтинга по всем аниме (1 балл)"
      ],
      "metadata": {
        "id": "jWjPfK8V3Fj3"
      }
    },
    {
      "cell_type": "code",
      "source": [
        "alpha = 0.05\n",
        "mean_rating = df_anime['rating'].mean()\n",
        "std_rating = df_anime['rating'].std()\n",
        "n = df_anime.shape[0]\n",
        "\n",
        "# Имеем дело не с генеральной совокупностью, поэтому не знаем дисперсию (в датафрейме не все аниме в мире, ясное дело)\n",
        "# Нахождение критического значения t-распределения\n",
        "\n",
        "t_critical = stats.t.ppf(1 - alpha/2 , n-1)\n",
        "left = mean_rating - t_critical*std_rating/np.sqrt(n)\n",
        "right = mean_rating + t_critical*std_rating/np.sqrt(n)\n",
        "\n",
        "print(f\"Левая и правая границы доверительного интервала: {left}, {right}\")"
      ],
      "metadata": {
        "id": "NX4LvOLA3UrC",
        "colab": {
          "base_uri": "https://localhost:8080/"
        },
        "outputId": "c7aadaca-40a1-4cde-f3c5-da0b28d15070"
      },
      "execution_count": null,
      "outputs": [
        {
          "output_type": "stream",
          "name": "stdout",
          "text": [
            "Левая и правая границы доверительного интервала: 6.473482586544639, 6.514314980365336\n"
          ]
        }
      ]
    },
    {
      "cell_type": "markdown",
      "source": [
        "## 6. Постройте доверительные интервалы для средних рейтингов по жанрам  (1 балл)"
      ],
      "metadata": {
        "id": "dBlIsxYy3geL"
      }
    },
    {
      "cell_type": "code",
      "source": [
        "alpha = 0.05\n",
        "\n",
        "df_decomposed = df_anime.copy()\n",
        "df_decomposed['genre'] = df_anime['genre'].str.split(', ')\n",
        "df_decomposed = df_decomposed.explode('genre')\n",
        "unique_genres = df_decomposed['genre'].dropna().unique()\n",
        "\n",
        "genre_rating_mean = df_decomposed.groupby('genre')['rating'].mean()\n",
        "genre_rating_std = df_decomposed.groupby('genre')['rating'].std()\n",
        "genre_count = df_decomposed.groupby('genre').size()\n",
        "genre_dictionary = {}\n",
        "\n",
        "for genre in sorted(unique_genres):\n",
        "  mean_rating = genre_rating_mean[genre]\n",
        "  std_rating = genre_rating_std[genre]\n",
        "\n",
        "  t_critical = stats.t.ppf(1 - alpha/2 , genre_count[genre] - 1)\n",
        "\n",
        "  left = mean_rating - t_critical*std_rating/np.sqrt(genre_count[genre])\n",
        "  right = mean_rating + t_critical*std_rating/np.sqrt(genre_count[genre])\n",
        "\n",
        "  genre_dictionary[genre] = [left, right]\n",
        "\n",
        "for genre, interval in genre_dictionary.items():\n",
        "    print(f\"Жанр: {genre}\")\n",
        "    print(f\"Доверительный интервал для среднего рейтинга по жанру: [{interval[0]:.2f}, {interval[1]:.2f}]\")\n",
        "    print(\"------------------------------------------\")\n"
      ],
      "metadata": {
        "id": "IUaOABXb3oQ9",
        "colab": {
          "base_uri": "https://localhost:8080/"
        },
        "outputId": "0917dd7f-309b-4094-8b73-b9eb55d68ae6"
      },
      "execution_count": null,
      "outputs": [
        {
          "output_type": "stream",
          "name": "stdout",
          "text": [
            "Жанр: Action\n",
            "Доверительный интервал для среднего рейтинга по жанру: [6.77, 6.84]\n",
            "------------------------------------------\n",
            "Жанр: Adventure\n",
            "Доверительный интервал для среднего рейтинга по жанру: [6.71, 6.78]\n",
            "------------------------------------------\n",
            "Жанр: Cars\n",
            "Доверительный интервал для среднего рейтинга по жанру: [6.19, 6.75]\n",
            "------------------------------------------\n",
            "Жанр: Comedy\n",
            "Доверительный интервал для среднего рейтинга по жанру: [6.59, 6.65]\n",
            "------------------------------------------\n",
            "Жанр: Dementia\n",
            "Доверительный интервал для среднего рейтинга по жанру: [4.84, 5.14]\n",
            "------------------------------------------\n",
            "Жанр: Demons\n",
            "Доверительный интервал для среднего рейтинга по жанру: [6.61, 6.89]\n",
            "------------------------------------------\n",
            "Жанр: Drama\n",
            "Доверительный интервал для среднего рейтинга по жанру: [6.95, 7.03]\n",
            "------------------------------------------\n",
            "Жанр: Fantasy\n",
            "Доверительный интервал для среднего рейтинга по жанру: [6.64, 6.71]\n",
            "------------------------------------------\n",
            "Жанр: Game\n",
            "Доверительный интервал для среднего рейтинга по жанру: [6.69, 6.94]\n",
            "------------------------------------------\n",
            "Жанр: Harem\n",
            "Доверительный интервал для среднего рейтинга по жанру: [6.90, 7.09]\n",
            "------------------------------------------\n",
            "Жанр: Historical\n",
            "Доверительный интервал для среднего рейтинга по жанру: [6.69, 6.83]\n",
            "------------------------------------------\n",
            "Жанр: Horror\n",
            "Доверительный интервал для среднего рейтинга по жанру: [6.33, 6.58]\n",
            "------------------------------------------\n",
            "Жанр: Josei\n",
            "Доверительный интервал для среднего рейтинга по жанру: [7.23, 7.65]\n",
            "------------------------------------------\n",
            "Жанр: Kids\n",
            "Доверительный интервал для среднего рейтинга по жанру: [6.05, 6.15]\n",
            "------------------------------------------\n",
            "Жанр: Magic\n",
            "Доверительный интервал для среднего рейтинга по жанру: [6.76, 6.88]\n",
            "------------------------------------------\n",
            "Жанр: Martial Arts\n",
            "Доверительный интервал для среднего рейтинга по жанру: [6.74, 6.96]\n",
            "------------------------------------------\n",
            "Жанр: Mecha\n",
            "Доверительный интервал для среднего рейтинга по жанру: [6.59, 6.71]\n",
            "------------------------------------------\n",
            "Жанр: Military\n",
            "Доверительный интервал для среднего рейтинга по жанру: [6.93, 7.11]\n",
            "------------------------------------------\n",
            "Жанр: Music\n",
            "Доверительный интервал для среднего рейтинга по жанру: [5.84, 5.99]\n",
            "------------------------------------------\n",
            "Жанр: Mystery\n",
            "Доверительный интервал для среднего рейтинга по жанру: [7.18, 7.33]\n",
            "------------------------------------------\n",
            "Жанр: Parody\n",
            "Доверительный интервал для среднего рейтинга по жанру: [6.44, 6.67]\n",
            "------------------------------------------\n",
            "Жанр: Police\n",
            "Доверительный интервал для среднего рейтинга по жанру: [7.04, 7.28]\n",
            "------------------------------------------\n",
            "Жанр: Psychological\n",
            "Доверительный интервал для среднего рейтинга по жанру: [6.90, 7.20]\n",
            "------------------------------------------\n",
            "Жанр: Romance\n",
            "Доверительный интервал для среднего рейтинга по жанру: [7.02, 7.11]\n",
            "------------------------------------------\n",
            "Жанр: Samurai\n",
            "Доверительный интервал для среднего рейтинга по жанру: [6.66, 7.03]\n",
            "------------------------------------------\n",
            "Жанр: School\n",
            "Доверительный интервал для среднего рейтинга по жанру: [6.96, 7.07]\n",
            "------------------------------------------\n",
            "Жанр: Sci-Fi\n",
            "Доверительный интервал для среднего рейтинга по жанру: [6.67, 6.75]\n",
            "------------------------------------------\n",
            "Жанр: Seinen\n",
            "Доверительный интервал для среднего рейтинга по жанру: [6.93, 7.09]\n",
            "------------------------------------------\n",
            "Жанр: Shoujo\n",
            "Доверительный интервал для среднего рейтинга по жанру: [6.81, 6.94]\n",
            "------------------------------------------\n",
            "Жанр: Shoujo Ai\n",
            "Доверительный интервал для среднего рейтинга по жанру: [7.04, 7.36]\n",
            "------------------------------------------\n",
            "Жанр: Shounen\n",
            "Доверительный интервал для среднего рейтинга по жанру: [7.02, 7.10]\n",
            "------------------------------------------\n",
            "Жанр: Shounen Ai\n",
            "Доверительный интервал для среднего рейтинга по жанру: [6.75, 7.17]\n",
            "------------------------------------------\n",
            "Жанр: Slice of Life\n",
            "Доверительный интервал для среднего рейтинга по жанру: [6.67, 6.79]\n",
            "------------------------------------------\n",
            "Жанр: Space\n",
            "Доверительный интервал для среднего рейтинга по жанру: [6.57, 6.81]\n",
            "------------------------------------------\n",
            "Жанр: Sports\n",
            "Доверительный интервал для среднего рейтинга по жанру: [6.71, 6.88]\n",
            "------------------------------------------\n",
            "Жанр: Super Power\n",
            "Доверительный интервал для среднего рейтинга по жанру: [6.85, 7.03]\n",
            "------------------------------------------\n",
            "Жанр: Supernatural\n",
            "Доверительный интервал для среднего рейтинга по жанру: [6.98, 7.10]\n",
            "------------------------------------------\n",
            "Жанр: Thriller\n",
            "Доверительный интервал для среднего рейтинга по жанру: [7.15, 7.61]\n",
            "------------------------------------------\n",
            "Жанр: Vampire\n",
            "Доверительный интервал для среднего рейтинга по жанру: [6.67, 7.09]\n",
            "------------------------------------------\n"
          ]
        }
      ]
    },
    {
      "cell_type": "markdown",
      "source": [
        "## 7. Постройте доверительные интервалы среднего рейтинга по типам аниме (1 балл)"
      ],
      "metadata": {
        "id": "kivd-c1H4Tgq"
      }
    },
    {
      "cell_type": "code",
      "source": [
        "alpha = 0.05\n",
        "\n",
        "type_rating_mean = df_anime.groupby('type')['rating'].mean()\n",
        "type_rating_std = df_anime.groupby('type')['rating'].std()\n",
        "type_count = df_anime.groupby('type').size()\n",
        "unique_types = df_anime['type'].dropna().unique()\n",
        "\n",
        "type_dictionary = {}\n",
        "\n",
        "for unique_type in unique_types:\n",
        "  mean_rating = type_rating_mean[unique_type]\n",
        "  std_rating = type_rating_std[unique_type]\n",
        "\n",
        "  t_critical = stats.t.ppf(1 - alpha/2 , type_count[unique_type] - 1)\n",
        "\n",
        "  left = mean_rating - t_critical*std_rating/np.sqrt(type_count[unique_type])\n",
        "  right = mean_rating + t_critical*std_rating/np.sqrt(type_count[unique_type])\n",
        "\n",
        "  type_dictionary[unique_type] = [left, right]\n",
        "\n",
        "print(f\"{'Type':<10} {'Left':<10} {'Right':<10}\")\n",
        "print(\"-\" * 30)\n",
        "for unique_type, (left, right) in type_dictionary.items():\n",
        "    print(f\"{unique_type:<10} {left:<10.2f} {right:<10.2f}\")\n"
      ],
      "metadata": {
        "id": "jKuXPtrP4dsI",
        "colab": {
          "base_uri": "https://localhost:8080/"
        },
        "outputId": "92e770d9-87d0-40da-85fd-15c246bc28a3"
      },
      "execution_count": null,
      "outputs": [
        {
          "output_type": "stream",
          "name": "stdout",
          "text": [
            "Type       Left       Right     \n",
            "------------------------------\n",
            "Movie      6.26       6.36      \n",
            "TV         6.90       6.96      \n",
            "OVA        6.43       6.52      \n",
            "Special    6.48       6.57      \n",
            "Music      5.50       5.67      \n",
            "ONA        5.53       5.71      \n"
          ]
        }
      ]
    },
    {
      "cell_type": "markdown",
      "source": [
        "## 8. По доверительным интервалам для episodes, rating и members оцените количество аномалий (2 балла)"
      ],
      "metadata": {
        "id": "Vvra__mx5VJF"
      }
    },
    {
      "cell_type": "code",
      "source": [
        "alpha = 0.05\n",
        "n = df_anime.shape[0]\n",
        "df_anime['episodes'] = pd.to_numeric(df_anime['episodes'], errors='coerce')\n",
        "df_anime['episodes'] = df_anime['episodes'].astype('Int32')\n",
        "df_anime = df_anime.dropna(subset=['episodes', 'rating', 'members'])\n",
        "\n",
        "\n",
        "episodes_mean = df_anime['episodes'].mean()\n",
        "rating_mean = df_anime['rating'].mean()\n",
        "members_mean = df_anime['members'].mean()\n",
        "\n",
        "episodes_std = df_anime['episodes'].std()\n",
        "rating_std = df_anime['rating'].std()\n",
        "members_std = df_anime['members'].std()\n",
        "\n",
        "t_critical = stats.t.ppf(1 - alpha/2 , n - 1)\n",
        "\n",
        "left_episodes = episodes_mean - t_critical*episodes_std / np.sqrt(n)\n",
        "right_episodes = episodes_mean + t_critical*episodes_std / np.sqrt(n)\n",
        "\n",
        "df_anomaly_episodes = df_anime.loc[(df_anime['episodes'] < left_episodes) | (df_anime['episodes'] > right_episodes)]\n",
        "print('Процент аниме, где количество эпизодов выходит за доверительный интервал среднего количества по выборке', df_anomaly_episodes.shape[0]/n)\n",
        "\n",
        "left_rating = rating_mean - t_critical*rating_std / np.sqrt(n)\n",
        "right_rating = rating_mean + t_critical*rating_std / np.sqrt(n)\n",
        "\n",
        "df_anomaly_rating = df_anime.loc[(df_anime['rating'] < left_rating) | (df_anime['rating'] > right_rating)]\n",
        "print('Процент аниме, где рейтинг выходит за доверительный интервал среднего рейтинга по выборке', df_anomaly_rating.shape[0]/n)\n",
        "\n",
        "left_members = members_mean - t_critical*members_std / np.sqrt(n)\n",
        "right_members = members_mean + t_critical*members_std / np.sqrt(n)\n",
        "\n",
        "df_anomaly_members = df_anime.loc[(df_anime['members'] < left_members) | (df_anime['members'] > right_members)]\n",
        "print('Процент аниме, где количество фанатов выходит за доверительный интервал среднего количества фанатов по выборке по выборке', df_anomaly_members.shape[0]/n)"
      ],
      "metadata": {
        "id": "ZgkUWe2Q5itg",
        "colab": {
          "base_uri": "https://localhost:8080/"
        },
        "outputId": "03f30121-4352-4f39-fb35-c18318ad04af"
      },
      "execution_count": null,
      "outputs": [
        {
          "output_type": "stream",
          "name": "stdout",
          "text": [
            "Процент аниме, где количество эпизодов выходит за доверительный интервал среднего количества по выборке 0.9116917795155446\n",
            "Процент аниме, где рейтинг выходит за доверительный интервал среднего рейтинга по выборке 0.9472630173564753\n",
            "Процент аниме, где количество фанатов выходит за доверительный интервал среднего количества фанатов по выборке по выборке 0.9547015067709327\n"
          ]
        }
      ]
    },
    {
      "cell_type": "markdown",
      "source": [
        "## Задания 9-15. Продуктовые метрики (16 баллов всего)"
      ],
      "metadata": {
        "id": "3K6VerUhxlFJ"
      }
    },
    {
      "cell_type": "code",
      "source": [
        "!curl -O https://raw.githubusercontent.com/alina-zhu/datasets/refs/heads/master/customer_shopping_data.csv >> customer_shopping_data.csv"
      ],
      "metadata": {
        "id": "UG1sPvD2wK4N",
        "colab": {
          "base_uri": "https://localhost:8080/"
        },
        "outputId": "479310dc-e1e1-4eaf-b5c0-e55e6e2a6cb6"
      },
      "execution_count": null,
      "outputs": [
        {
          "output_type": "stream",
          "name": "stdout",
          "text": [
            "  % Total    % Received % Xferd  Average Speed   Time    Time     Time  Current\n",
            "                                 Dload  Upload   Total   Spent    Left  Speed\n",
            "100 6410k  100 6410k    0     0  10.1M      0 --:--:-- --:--:-- --:--:-- 10.1M\n"
          ]
        }
      ]
    },
    {
      "cell_type": "markdown",
      "source": [
        "Описание датафрейма:\n",
        "- `invoice_no` - номер чека\n",
        "- `customer_id` - id клиента\n",
        "- `gender` - пол клиента\n",
        "- `age` - возраст клиента\n",
        "- `category` - категория товара\n",
        "- `quantity` - количество единиц товаров в чеке\n",
        "- `price` - цена товара\n",
        "- `payment_method` - метод оплаты\n",
        "- `invoice_date` - дата покупки\n"
      ],
      "metadata": {
        "id": "8S7YI0VMwj1d"
      }
    },
    {
      "cell_type": "code",
      "source": [
        "df = pd.read_csv('customer_shopping_data.csv')\n",
        "df.info()"
      ],
      "metadata": {
        "colab": {
          "base_uri": "https://localhost:8080/"
        },
        "id": "c85Z1d-kwcJe",
        "outputId": "60baaae5-8ac8-418a-ece6-e718c615c7a7"
      },
      "execution_count": null,
      "outputs": [
        {
          "output_type": "stream",
          "name": "stdout",
          "text": [
            "<class 'pandas.core.frame.DataFrame'>\n",
            "RangeIndex: 99457 entries, 0 to 99456\n",
            "Data columns (total 9 columns):\n",
            " #   Column          Non-Null Count  Dtype  \n",
            "---  ------          --------------  -----  \n",
            " 0   invoice_no      99457 non-null  object \n",
            " 1   customer_id     99457 non-null  object \n",
            " 2   gender          99457 non-null  object \n",
            " 3   age             99457 non-null  int64  \n",
            " 4   category        99457 non-null  object \n",
            " 5   quantity        99457 non-null  int64  \n",
            " 6   price           99457 non-null  float64\n",
            " 7   payment_method  99457 non-null  object \n",
            " 8   invoice_date    99457 non-null  object \n",
            "dtypes: float64(1), int64(2), object(6)\n",
            "memory usage: 6.8+ MB\n"
          ]
        }
      ]
    },
    {
      "cell_type": "code",
      "source": [
        "df.head()"
      ],
      "metadata": {
        "colab": {
          "base_uri": "https://localhost:8080/",
          "height": 206
        },
        "id": "WU-CCm0Fj6eX",
        "outputId": "09037682-99dd-4c36-9437-46c22783aecb"
      },
      "execution_count": null,
      "outputs": [
        {
          "output_type": "execute_result",
          "data": {
            "text/plain": [
              "  invoice_no customer_id  gender  age  category  quantity    price  \\\n",
              "0    I138884  upeszhn26j  Female   28  Clothing         5  1500.40   \n",
              "1    I317333  nyyoavbmge    Male   21     Shoes         3  1800.51   \n",
              "2    I127801  iksbmqrtj0    Male   20  Clothing         1   300.08   \n",
              "3    I173702  zfhc107gzu  Female   66     Shoes         5  3000.85   \n",
              "4    I337046  diwrquryyt  Female   53     Books         4    60.60   \n",
              "\n",
              "  payment_method invoice_date  \n",
              "0    Credit Card   2022-08-05  \n",
              "1     Debit Card   2021-12-12  \n",
              "2           Cash   2021-11-09  \n",
              "3    Credit Card   2021-05-16  \n",
              "4           Cash   2021-10-24  "
            ],
            "text/html": [
              "\n",
              "  <div id=\"df-d6bfa1a6-c90c-4cbe-8669-ff13e651d8da\" class=\"colab-df-container\">\n",
              "    <div>\n",
              "<style scoped>\n",
              "    .dataframe tbody tr th:only-of-type {\n",
              "        vertical-align: middle;\n",
              "    }\n",
              "\n",
              "    .dataframe tbody tr th {\n",
              "        vertical-align: top;\n",
              "    }\n",
              "\n",
              "    .dataframe thead th {\n",
              "        text-align: right;\n",
              "    }\n",
              "</style>\n",
              "<table border=\"1\" class=\"dataframe\">\n",
              "  <thead>\n",
              "    <tr style=\"text-align: right;\">\n",
              "      <th></th>\n",
              "      <th>invoice_no</th>\n",
              "      <th>customer_id</th>\n",
              "      <th>gender</th>\n",
              "      <th>age</th>\n",
              "      <th>category</th>\n",
              "      <th>quantity</th>\n",
              "      <th>price</th>\n",
              "      <th>payment_method</th>\n",
              "      <th>invoice_date</th>\n",
              "    </tr>\n",
              "  </thead>\n",
              "  <tbody>\n",
              "    <tr>\n",
              "      <th>0</th>\n",
              "      <td>I138884</td>\n",
              "      <td>upeszhn26j</td>\n",
              "      <td>Female</td>\n",
              "      <td>28</td>\n",
              "      <td>Clothing</td>\n",
              "      <td>5</td>\n",
              "      <td>1500.40</td>\n",
              "      <td>Credit Card</td>\n",
              "      <td>2022-08-05</td>\n",
              "    </tr>\n",
              "    <tr>\n",
              "      <th>1</th>\n",
              "      <td>I317333</td>\n",
              "      <td>nyyoavbmge</td>\n",
              "      <td>Male</td>\n",
              "      <td>21</td>\n",
              "      <td>Shoes</td>\n",
              "      <td>3</td>\n",
              "      <td>1800.51</td>\n",
              "      <td>Debit Card</td>\n",
              "      <td>2021-12-12</td>\n",
              "    </tr>\n",
              "    <tr>\n",
              "      <th>2</th>\n",
              "      <td>I127801</td>\n",
              "      <td>iksbmqrtj0</td>\n",
              "      <td>Male</td>\n",
              "      <td>20</td>\n",
              "      <td>Clothing</td>\n",
              "      <td>1</td>\n",
              "      <td>300.08</td>\n",
              "      <td>Cash</td>\n",
              "      <td>2021-11-09</td>\n",
              "    </tr>\n",
              "    <tr>\n",
              "      <th>3</th>\n",
              "      <td>I173702</td>\n",
              "      <td>zfhc107gzu</td>\n",
              "      <td>Female</td>\n",
              "      <td>66</td>\n",
              "      <td>Shoes</td>\n",
              "      <td>5</td>\n",
              "      <td>3000.85</td>\n",
              "      <td>Credit Card</td>\n",
              "      <td>2021-05-16</td>\n",
              "    </tr>\n",
              "    <tr>\n",
              "      <th>4</th>\n",
              "      <td>I337046</td>\n",
              "      <td>diwrquryyt</td>\n",
              "      <td>Female</td>\n",
              "      <td>53</td>\n",
              "      <td>Books</td>\n",
              "      <td>4</td>\n",
              "      <td>60.60</td>\n",
              "      <td>Cash</td>\n",
              "      <td>2021-10-24</td>\n",
              "    </tr>\n",
              "  </tbody>\n",
              "</table>\n",
              "</div>\n",
              "    <div class=\"colab-df-buttons\">\n",
              "\n",
              "  <div class=\"colab-df-container\">\n",
              "    <button class=\"colab-df-convert\" onclick=\"convertToInteractive('df-d6bfa1a6-c90c-4cbe-8669-ff13e651d8da')\"\n",
              "            title=\"Convert this dataframe to an interactive table.\"\n",
              "            style=\"display:none;\">\n",
              "\n",
              "  <svg xmlns=\"http://www.w3.org/2000/svg\" height=\"24px\" viewBox=\"0 -960 960 960\">\n",
              "    <path d=\"M120-120v-720h720v720H120Zm60-500h600v-160H180v160Zm220 220h160v-160H400v160Zm0 220h160v-160H400v160ZM180-400h160v-160H180v160Zm440 0h160v-160H620v160ZM180-180h160v-160H180v160Zm440 0h160v-160H620v160Z\"/>\n",
              "  </svg>\n",
              "    </button>\n",
              "\n",
              "  <style>\n",
              "    .colab-df-container {\n",
              "      display:flex;\n",
              "      gap: 12px;\n",
              "    }\n",
              "\n",
              "    .colab-df-convert {\n",
              "      background-color: #E8F0FE;\n",
              "      border: none;\n",
              "      border-radius: 50%;\n",
              "      cursor: pointer;\n",
              "      display: none;\n",
              "      fill: #1967D2;\n",
              "      height: 32px;\n",
              "      padding: 0 0 0 0;\n",
              "      width: 32px;\n",
              "    }\n",
              "\n",
              "    .colab-df-convert:hover {\n",
              "      background-color: #E2EBFA;\n",
              "      box-shadow: 0px 1px 2px rgba(60, 64, 67, 0.3), 0px 1px 3px 1px rgba(60, 64, 67, 0.15);\n",
              "      fill: #174EA6;\n",
              "    }\n",
              "\n",
              "    .colab-df-buttons div {\n",
              "      margin-bottom: 4px;\n",
              "    }\n",
              "\n",
              "    [theme=dark] .colab-df-convert {\n",
              "      background-color: #3B4455;\n",
              "      fill: #D2E3FC;\n",
              "    }\n",
              "\n",
              "    [theme=dark] .colab-df-convert:hover {\n",
              "      background-color: #434B5C;\n",
              "      box-shadow: 0px 1px 3px 1px rgba(0, 0, 0, 0.15);\n",
              "      filter: drop-shadow(0px 1px 2px rgba(0, 0, 0, 0.3));\n",
              "      fill: #FFFFFF;\n",
              "    }\n",
              "  </style>\n",
              "\n",
              "    <script>\n",
              "      const buttonEl =\n",
              "        document.querySelector('#df-d6bfa1a6-c90c-4cbe-8669-ff13e651d8da button.colab-df-convert');\n",
              "      buttonEl.style.display =\n",
              "        google.colab.kernel.accessAllowed ? 'block' : 'none';\n",
              "\n",
              "      async function convertToInteractive(key) {\n",
              "        const element = document.querySelector('#df-d6bfa1a6-c90c-4cbe-8669-ff13e651d8da');\n",
              "        const dataTable =\n",
              "          await google.colab.kernel.invokeFunction('convertToInteractive',\n",
              "                                                    [key], {});\n",
              "        if (!dataTable) return;\n",
              "\n",
              "        const docLinkHtml = 'Like what you see? Visit the ' +\n",
              "          '<a target=\"_blank\" href=https://colab.research.google.com/notebooks/data_table.ipynb>data table notebook</a>'\n",
              "          + ' to learn more about interactive tables.';\n",
              "        element.innerHTML = '';\n",
              "        dataTable['output_type'] = 'display_data';\n",
              "        await google.colab.output.renderOutput(dataTable, element);\n",
              "        const docLink = document.createElement('div');\n",
              "        docLink.innerHTML = docLinkHtml;\n",
              "        element.appendChild(docLink);\n",
              "      }\n",
              "    </script>\n",
              "  </div>\n",
              "\n",
              "\n",
              "<div id=\"df-9c22df40-1a9b-4391-8355-9df4573f4c83\">\n",
              "  <button class=\"colab-df-quickchart\" onclick=\"quickchart('df-9c22df40-1a9b-4391-8355-9df4573f4c83')\"\n",
              "            title=\"Suggest charts\"\n",
              "            style=\"display:none;\">\n",
              "\n",
              "<svg xmlns=\"http://www.w3.org/2000/svg\" height=\"24px\"viewBox=\"0 0 24 24\"\n",
              "     width=\"24px\">\n",
              "    <g>\n",
              "        <path d=\"M19 3H5c-1.1 0-2 .9-2 2v14c0 1.1.9 2 2 2h14c1.1 0 2-.9 2-2V5c0-1.1-.9-2-2-2zM9 17H7v-7h2v7zm4 0h-2V7h2v10zm4 0h-2v-4h2v4z\"/>\n",
              "    </g>\n",
              "</svg>\n",
              "  </button>\n",
              "\n",
              "<style>\n",
              "  .colab-df-quickchart {\n",
              "      --bg-color: #E8F0FE;\n",
              "      --fill-color: #1967D2;\n",
              "      --hover-bg-color: #E2EBFA;\n",
              "      --hover-fill-color: #174EA6;\n",
              "      --disabled-fill-color: #AAA;\n",
              "      --disabled-bg-color: #DDD;\n",
              "  }\n",
              "\n",
              "  [theme=dark] .colab-df-quickchart {\n",
              "      --bg-color: #3B4455;\n",
              "      --fill-color: #D2E3FC;\n",
              "      --hover-bg-color: #434B5C;\n",
              "      --hover-fill-color: #FFFFFF;\n",
              "      --disabled-bg-color: #3B4455;\n",
              "      --disabled-fill-color: #666;\n",
              "  }\n",
              "\n",
              "  .colab-df-quickchart {\n",
              "    background-color: var(--bg-color);\n",
              "    border: none;\n",
              "    border-radius: 50%;\n",
              "    cursor: pointer;\n",
              "    display: none;\n",
              "    fill: var(--fill-color);\n",
              "    height: 32px;\n",
              "    padding: 0;\n",
              "    width: 32px;\n",
              "  }\n",
              "\n",
              "  .colab-df-quickchart:hover {\n",
              "    background-color: var(--hover-bg-color);\n",
              "    box-shadow: 0 1px 2px rgba(60, 64, 67, 0.3), 0 1px 3px 1px rgba(60, 64, 67, 0.15);\n",
              "    fill: var(--button-hover-fill-color);\n",
              "  }\n",
              "\n",
              "  .colab-df-quickchart-complete:disabled,\n",
              "  .colab-df-quickchart-complete:disabled:hover {\n",
              "    background-color: var(--disabled-bg-color);\n",
              "    fill: var(--disabled-fill-color);\n",
              "    box-shadow: none;\n",
              "  }\n",
              "\n",
              "  .colab-df-spinner {\n",
              "    border: 2px solid var(--fill-color);\n",
              "    border-color: transparent;\n",
              "    border-bottom-color: var(--fill-color);\n",
              "    animation:\n",
              "      spin 1s steps(1) infinite;\n",
              "  }\n",
              "\n",
              "  @keyframes spin {\n",
              "    0% {\n",
              "      border-color: transparent;\n",
              "      border-bottom-color: var(--fill-color);\n",
              "      border-left-color: var(--fill-color);\n",
              "    }\n",
              "    20% {\n",
              "      border-color: transparent;\n",
              "      border-left-color: var(--fill-color);\n",
              "      border-top-color: var(--fill-color);\n",
              "    }\n",
              "    30% {\n",
              "      border-color: transparent;\n",
              "      border-left-color: var(--fill-color);\n",
              "      border-top-color: var(--fill-color);\n",
              "      border-right-color: var(--fill-color);\n",
              "    }\n",
              "    40% {\n",
              "      border-color: transparent;\n",
              "      border-right-color: var(--fill-color);\n",
              "      border-top-color: var(--fill-color);\n",
              "    }\n",
              "    60% {\n",
              "      border-color: transparent;\n",
              "      border-right-color: var(--fill-color);\n",
              "    }\n",
              "    80% {\n",
              "      border-color: transparent;\n",
              "      border-right-color: var(--fill-color);\n",
              "      border-bottom-color: var(--fill-color);\n",
              "    }\n",
              "    90% {\n",
              "      border-color: transparent;\n",
              "      border-bottom-color: var(--fill-color);\n",
              "    }\n",
              "  }\n",
              "</style>\n",
              "\n",
              "  <script>\n",
              "    async function quickchart(key) {\n",
              "      const quickchartButtonEl =\n",
              "        document.querySelector('#' + key + ' button');\n",
              "      quickchartButtonEl.disabled = true;  // To prevent multiple clicks.\n",
              "      quickchartButtonEl.classList.add('colab-df-spinner');\n",
              "      try {\n",
              "        const charts = await google.colab.kernel.invokeFunction(\n",
              "            'suggestCharts', [key], {});\n",
              "      } catch (error) {\n",
              "        console.error('Error during call to suggestCharts:', error);\n",
              "      }\n",
              "      quickchartButtonEl.classList.remove('colab-df-spinner');\n",
              "      quickchartButtonEl.classList.add('colab-df-quickchart-complete');\n",
              "    }\n",
              "    (() => {\n",
              "      let quickchartButtonEl =\n",
              "        document.querySelector('#df-9c22df40-1a9b-4391-8355-9df4573f4c83 button');\n",
              "      quickchartButtonEl.style.display =\n",
              "        google.colab.kernel.accessAllowed ? 'block' : 'none';\n",
              "    })();\n",
              "  </script>\n",
              "</div>\n",
              "    </div>\n",
              "  </div>\n"
            ],
            "application/vnd.google.colaboratory.intrinsic+json": {
              "type": "dataframe",
              "variable_name": "df",
              "summary": "{\n  \"name\": \"df\",\n  \"rows\": 99457,\n  \"fields\": [\n    {\n      \"column\": \"invoice_no\",\n      \"properties\": {\n        \"dtype\": \"string\",\n        \"num_unique_values\": 99457,\n        \"samples\": [\n          \"I704758\",\n          \"I218404\",\n          \"I195516\"\n        ],\n        \"semantic_type\": \"\",\n        \"description\": \"\"\n      }\n    },\n    {\n      \"column\": \"customer_id\",\n      \"properties\": {\n        \"dtype\": \"category\",\n        \"num_unique_values\": 47168,\n        \"samples\": [\n          \"owxjist5p6\",\n          \"yfphaaoqhe\",\n          \"cjp80vbcfa\"\n        ],\n        \"semantic_type\": \"\",\n        \"description\": \"\"\n      }\n    },\n    {\n      \"column\": \"gender\",\n      \"properties\": {\n        \"dtype\": \"category\",\n        \"num_unique_values\": 2,\n        \"samples\": [\n          \"Male\",\n          \"Female\"\n        ],\n        \"semantic_type\": \"\",\n        \"description\": \"\"\n      }\n    },\n    {\n      \"column\": \"age\",\n      \"properties\": {\n        \"dtype\": \"number\",\n        \"std\": 14,\n        \"min\": 18,\n        \"max\": 69,\n        \"num_unique_values\": 52,\n        \"samples\": [\n          52,\n          57\n        ],\n        \"semantic_type\": \"\",\n        \"description\": \"\"\n      }\n    },\n    {\n      \"column\": \"category\",\n      \"properties\": {\n        \"dtype\": \"category\",\n        \"num_unique_values\": 8,\n        \"samples\": [\n          \"Shoes\",\n          \"Toys\"\n        ],\n        \"semantic_type\": \"\",\n        \"description\": \"\"\n      }\n    },\n    {\n      \"column\": \"quantity\",\n      \"properties\": {\n        \"dtype\": \"number\",\n        \"std\": 1,\n        \"min\": 1,\n        \"max\": 5,\n        \"num_unique_values\": 5,\n        \"samples\": [\n          3,\n          2\n        ],\n        \"semantic_type\": \"\",\n        \"description\": \"\"\n      }\n    },\n    {\n      \"column\": \"price\",\n      \"properties\": {\n        \"dtype\": \"number\",\n        \"std\": 941.1845672157425,\n        \"min\": 5.23,\n        \"max\": 5250.0,\n        \"num_unique_values\": 40,\n        \"samples\": [\n          121.98,\n          71.68\n        ],\n        \"semantic_type\": \"\",\n        \"description\": \"\"\n      }\n    },\n    {\n      \"column\": \"payment_method\",\n      \"properties\": {\n        \"dtype\": \"category\",\n        \"num_unique_values\": 3,\n        \"samples\": [\n          \"Credit Card\",\n          \"Debit Card\"\n        ],\n        \"semantic_type\": \"\",\n        \"description\": \"\"\n      }\n    },\n    {\n      \"column\": \"invoice_date\",\n      \"properties\": {\n        \"dtype\": \"object\",\n        \"num_unique_values\": 797,\n        \"samples\": [\n          \"2022-07-09\",\n          \"2022-10-14\"\n        ],\n        \"semantic_type\": \"\",\n        \"description\": \"\"\n      }\n    }\n  ]\n}"
            }
          },
          "metadata": {},
          "execution_count": 15
        }
      ]
    },
    {
      "cell_type": "markdown",
      "source": [
        "## 9. Посчитайте доверительный интервал для среднего возраста покупателей (1 балл)"
      ],
      "metadata": {
        "id": "aJLfOpTcliKZ"
      }
    },
    {
      "cell_type": "code",
      "source": [
        "alpha = 0.05\n",
        "\n",
        "age_mean = df['age'].mean()\n",
        "age_std = df['age'].std()\n",
        "n = df.shape[0]\n",
        "\n",
        "t_critical = stats.t.ppf(1 - alpha/2, n - 1)\n",
        "left = age_mean - t_critical*np.sqrt(age_std**2/n)\n",
        "right = age_mean + t_critical*np.sqrt(age_std**2/n)\n",
        "\n",
        "print(f\"Левая и правая границы доверительного интервала для среднего возраста покупателей: {left}, {right}\")\n"
      ],
      "metadata": {
        "id": "GT_5D_17lFur",
        "colab": {
          "base_uri": "https://localhost:8080/"
        },
        "outputId": "a5afae7b-fce4-434e-863e-c688bfc94cdc"
      },
      "execution_count": null,
      "outputs": [
        {
          "output_type": "stream",
          "name": "stdout",
          "text": [
            "Левая и правая границы доверительного интервала для среднего возраста покупателей: 43.33392707517726, 43.52025111238119\n"
          ]
        }
      ]
    },
    {
      "cell_type": "markdown",
      "source": [
        "## 10. Посчитайте доверительные интервалы для среднего чека в каждой категории (1 балл)"
      ],
      "metadata": {
        "id": "7dukOrIvl4bu"
      }
    },
    {
      "cell_type": "code",
      "source": [
        "category_check_mean = df.groupby('category')['price'].mean()\n",
        "category_check_std = df.groupby('category')['price'].std()\n",
        "category_count = df.groupby('category').size()\n",
        "unique_categories = df['category'].unique()\n",
        "\n",
        "category_dictionary = {}\n",
        "\n",
        "for unique_category in unique_categories:\n",
        "  mean_check = category_check_mean[unique_category]\n",
        "  std_check = category_check_std[unique_category]\n",
        "\n",
        "  t_critical = stats.t.ppf(1 - alpha/2 , category_count[unique_category] - 1)\n",
        "\n",
        "  left = mean_check - t_critical*std_check/np.sqrt(category_count[unique_category])\n",
        "  right = mean_check + t_critical*std_check/np.sqrt(category_count[unique_category])\n",
        "\n",
        "  category_dictionary[unique_category] = [left, right]\n",
        "\n",
        "\n",
        "for method, interval in category_dictionary.items():\n",
        "    print(f\"Метод оплаты: {method}\")\n",
        "    print(f\"Доверительный интервал для среднего чека: [{interval[0]:.2f}, {interval[1]:.2f}]\")\n",
        "    print(\"------------------------------------------\")\n"
      ],
      "metadata": {
        "id": "ALaqe8XtmOMF",
        "colab": {
          "base_uri": "https://localhost:8080/"
        },
        "outputId": "a2bc463a-6696-4131-fcc3-ef06bedda5f4"
      },
      "execution_count": null,
      "outputs": [
        {
          "output_type": "stream",
          "name": "stdout",
          "text": [
            "Метод оплаты: Clothing\n",
            "Доверительный интервал для среднего чека: [896.61, 905.56]\n",
            "------------------------------------------\n",
            "Метод оплаты: Shoes\n",
            "Доверительный интервал для среднего чека: [1790.85, 1823.93]\n",
            "------------------------------------------\n",
            "Метод оплаты: Books\n",
            "Доверительный интервал для среднего чека: [44.97, 46.17]\n",
            "------------------------------------------\n",
            "Метод оплаты: Cosmetics\n",
            "Доверительный интервал для среднего чека: [121.53, 123.37]\n",
            "------------------------------------------\n",
            "Метод оплаты: Food & Beverage\n",
            "Доверительный интервал для среднего чека: [15.55, 15.79]\n",
            "------------------------------------------\n",
            "Метод оплаты: Toys\n",
            "Доверительный интервал для среднего чека: [106.75, 108.72]\n",
            "------------------------------------------\n",
            "Метод оплаты: Technology\n",
            "Доверительный интервал для среднего чека: [3115.84, 3198.03]\n",
            "------------------------------------------\n",
            "Метод оплаты: Souvenir\n",
            "Доверительный интервал для среднего чека: [34.44, 35.35]\n",
            "------------------------------------------\n"
          ]
        }
      ]
    },
    {
      "cell_type": "markdown",
      "source": [
        "## 11. Посчитайте доверительные интервалы для среднего чека для каждого типа оплаты (1 балл)"
      ],
      "metadata": {
        "id": "kx1Z0IMVBglj"
      }
    },
    {
      "cell_type": "code",
      "source": [
        "payment_check_mean = df.groupby('payment_method')['price'].mean()\n",
        "payment_check_std = df.groupby('payment_method')['price'].std()\n",
        "payment_count = df.groupby('payment_method').size()\n",
        "unique_payments = df['payment_method'].unique()\n",
        "\n",
        "payments_dictionary = {}\n",
        "\n",
        "for unique_payment in unique_payments:\n",
        "  mean_check = payment_check_mean[unique_payment]\n",
        "  std_check = payment_check_std[unique_payment]\n",
        "\n",
        "  t_critical = stats.t.ppf(1 - alpha/2 , payment_count[unique_payment] - 1)\n",
        "\n",
        "  left = mean_check - t_critical*std_check/np.sqrt(payment_count[unique_payment])\n",
        "  right = mean_check + t_critical*std_check/np.sqrt(payment_count[unique_payment])\n",
        "\n",
        "  payments_dictionary[unique_payment] = [left, right]\n",
        "\n",
        "print(payments_dictionary)"
      ],
      "metadata": {
        "id": "DxYGM--ABq45",
        "colab": {
          "base_uri": "https://localhost:8080/"
        },
        "outputId": "9e2f91ce-0119-48bf-ab38-b8f581f33492"
      },
      "execution_count": null,
      "outputs": [
        {
          "output_type": "stream",
          "name": "stdout",
          "text": [
            "{'Credit Card': [678.6523735560427, 698.4325613155613], 'Debit Card': [674.0985861160312, 699.9596837181238], 'Cash': [682.0602071901642, 699.5867422102453]}\n"
          ]
        }
      ]
    },
    {
      "cell_type": "markdown",
      "source": [
        "## 12. Посчитайте доверительный интервал для среднего количества позиций в чеке (1 балл)"
      ],
      "metadata": {
        "id": "xdzSIq2xmPu7"
      }
    },
    {
      "cell_type": "code",
      "source": [
        "alpha = 0.05\n",
        "\n",
        "quantity_mean = df['quantity'].mean()\n",
        "quantity_std = df['quantity'].std()\n",
        "n = df.shape[0]\n",
        "\n",
        "t_critical = stats.t.ppf(1 - alpha/2, n - 1)\n",
        "left = quantity_mean - t_critical*np.sqrt(quantity_std**2/n)\n",
        "right = quantity_mean + t_critical*np.sqrt(quantity_std**2/n)\n",
        "\n",
        "print(f\"Левая и правая границы доверительного интервала для среднего количества позиций в чеке: {left}, {right}\")"
      ],
      "metadata": {
        "id": "bslZN8Fnmgh9",
        "colab": {
          "base_uri": "https://localhost:8080/"
        },
        "outputId": "741f98c1-241b-4fc9-8db1-14fee6cbfedc"
      },
      "execution_count": null,
      "outputs": [
        {
          "output_type": "stream",
          "name": "stdout",
          "text": [
            "Левая и правая границы доверительного интервала для среднего количества позиций в чеке: 2.9946467760678455, 3.012210458717037\n"
          ]
        }
      ]
    },
    {
      "cell_type": "markdown",
      "source": [
        "## 13. Посчитайте доверительный для среднего количества покупателей в день (1 балл)"
      ],
      "metadata": {
        "id": "OWd_SDlMmj8b"
      }
    },
    {
      "cell_type": "code",
      "source": [
        "# учитываем, что один и тот же покупатель может прийти несколько раз в день\n",
        "daily_stats = df.groupby('invoice_date').agg({\n",
        "    'customer_id': 'nunique'\n",
        "}).reset_index()\n",
        "\n",
        "mean_customers = daily_stats['customer_id'].mean()\n",
        "std_customers = daily_stats['customer_id'].std()\n",
        "n = daily_stats.shape[0]\n",
        "\n",
        "t_critical = stats.t.ppf(1 - alpha/2, n - 1)\n",
        "left = mean_customers - t_critical*np.sqrt(std_customers**2/n)\n",
        "right = mean_customers + t_critical*np.sqrt(std_customers**2/n)\n",
        "\n",
        "print(f\"Левая и правая границы доверительного интервала для среднего количества покупателей в день: {left}, {right}\")"
      ],
      "metadata": {
        "id": "ayxueHiTnWrZ",
        "colab": {
          "base_uri": "https://localhost:8080/"
        },
        "outputId": "508446bf-ff2d-41cc-85d7-a3d2ea835a14"
      },
      "execution_count": null,
      "outputs": [
        {
          "output_type": "stream",
          "name": "stdout",
          "text": [
            "Левая и правая границы доверительного интервала для среднего количества покупателей в день: 123.91153976539648, 125.4284853287064\n"
          ]
        }
      ]
    },
    {
      "cell_type": "markdown",
      "source": [
        "\n",
        "\n",
        "## 14. Посчитайте помесячный retention для пользователей и доверительные интервалы для него (6 баллов)\n",
        "Day N Retention = (Users Day N / Users Day 0) * 100\n",
        "\n",
        "1) Постройте график retention   \n",
        "2) Добавьте на график область доверительного интервала для каждого месяца"
      ],
      "metadata": {
        "id": "guxehAKPnXGB"
      }
    },
    {
      "cell_type": "markdown",
      "source": [
        "Сначала нам нужно взять нулевой месяц (он может быть любым). Затем смотрим в следующих месяцах смотрим, как к нам возвращаются пользователи. Считать надо честный ретеншн (т.е. как я понял, не учитываем, что к нам пришли новые пользователи).\n",
        "- Вычислим количество уникальных пользователей за месяц\n",
        "- Далее делаем то же самое, но смотреть нужно еще на пересечение айдишников с прошлым (нулевым) месяцем.\n",
        "\n"
      ],
      "metadata": {
        "id": "TtrMiOeGg17h"
      }
    },
    {
      "cell_type": "code",
      "source": [
        "df['invoice_date'] = pd.to_datetime(df['invoice_date'])\n",
        "df = df.sort_values('invoice_date')\n",
        "\n",
        "df_zero_month = df.loc[df['invoice_date'] < '2021-02-01']\n",
        "zero_month_unique_ids = df_zero_month['customer_id'].unique()\n",
        "users_zero_month = len(zero_month_unique_ids)\n",
        "\n",
        "all_months = pd.date_range(start=df['invoice_date'].min(), end=df['invoice_date'].max(), freq='MS')\n",
        "\n",
        "retention_data = {}\n",
        "\n",
        "alpha = 0.05\n",
        "z = norm_distr.ppf(1 - alpha/2)\n",
        "\n",
        "\n",
        "for i in range(1, len(all_months)):\n",
        "  start_date = all_months[i]\n",
        "  end_date = start_date + pd.DateOffset(months=1)\n",
        "  df_current_month = df.loc[(df['invoice_date'] >= start_date) & (df['invoice_date'] < end_date)]\n",
        "  current_month_unique_ids = df_current_month['customer_id'].unique()\n",
        "\n",
        "  current_month_intersected_ids = np.intersect1d(current_month_unique_ids, zero_month_unique_ids)\n",
        "  users_current_month = len(current_month_intersected_ids)\n",
        "  current_month_retention = (users_current_month/users_zero_month) * 100\n",
        "\n",
        "  p = current_month_retention / 100\n",
        "  se = np.sqrt(p * (1 - p) / users_zero_month)\n",
        "  left = (p - z * se) * 100\n",
        "  right = (p + z * se) * 100\n",
        "\n",
        "  retention_data[start_date] = [round(current_month_retention, 2), round(left, 2), round(right, 2)]\n",
        "\n",
        "\n",
        "retention_df = pd.DataFrame(list(retention_data.items()), columns=['month', 'retention_data'])\n",
        "retention_df[['retention', 'left', 'right']] = pd.DataFrame(retention_df['retention_data'].tolist(), index=retention_df.index)\n",
        "\n",
        "plt.figure(figsize=(12, 6))\n",
        "\n",
        "plt.plot(retention_df['month'], retention_df['retention'], marker='o', label='Retention')\n",
        "\n",
        "plt.fill_between(retention_df['month'], retention_df['left'], retention_df['right'], alpha=0.2, label='Доверительный интервал')\n",
        "\n",
        "plt.title('Retention с доверительным интервалом')\n",
        "plt.xlabel('Месяц')\n",
        "plt.ylabel('Retention (%)')\n",
        "plt.legend()\n",
        "plt.grid(True)\n",
        "plt.xticks(rotation=45)\n",
        "\n",
        "plt.show()\n",
        "\n",
        "\n",
        "\n"
      ],
      "metadata": {
        "id": "QdkED1shnsI7",
        "colab": {
          "base_uri": "https://localhost:8080/",
          "height": 606
        },
        "outputId": "123711f6-f61a-4e24-f226-dd97a6e06c10"
      },
      "execution_count": null,
      "outputs": [
        {
          "output_type": "display_data",
          "data": {
            "text/plain": [
              "<Figure size 1200x600 with 1 Axes>"
            ],
            "image/png": "[encoded data removed]"
          },
          "metadata": {}
        }
      ]
    },
    {
      "cell_type": "markdown",
      "source": [
        "Вероятно, что за последний месяц retention очень мал, так как данные были собраны не за весь месяц, а, например, за треть"
      ],
      "metadata": {
        "id": "S35lu3Qs4ek3"
      }
    },
    {
      "cell_type": "markdown",
      "source": [
        "## 15. Посчитайте средний доход с пользователя (ARPU) в каждом месяце и доверительные интервалы для него (5 баллов)\n",
        "ARPU = Average Revenue Per User  \n",
        "1) Постройте график ARPU для каждого месяца      \n",
        "2) Добавьте на график область доверительного интервала для каждого месяца"
      ],
      "metadata": {
        "id": "k9QM1bg11yZ3"
      }
    },
    {
      "cell_type": "code",
      "source": [
        "# по каждому месяцу считаем уникальных клиентов, суммируем доходы\n",
        "# за каждый месяц вычисляем соотношение: общий доход/количество клиентов\n",
        "from scipy.stats import t\n",
        "\n",
        "arpu_data = {}\n",
        "\n",
        "for i in range(len(all_months)):\n",
        "  start_date = all_months[i]\n",
        "  end_date = start_date + pd.DateOffset(months=1)\n",
        "  df_current_month = df.loc[(df['invoice_date'] >= start_date) & (df['invoice_date'] < end_date)]\n",
        "  current_month_unique_ids = df_current_month['customer_id'].unique()\n",
        "\n",
        "  sum_of_income = df_current_month['price'].sum()\n",
        "  current_arpu = sum_of_income/len(current_month_unique_ids)\n",
        "\n",
        "  std_dev = df_current_month.groupby('customer_id')['price'].sum().std()\n",
        "  t_score = t.ppf(1 - alpha, len(current_month_unique_ids) - 1)\n",
        "  se = std_dev / np.sqrt(len(current_month_unique_ids))\n",
        "  left = current_arpu - t_score * se\n",
        "  right = current_arpu + t_score * se\n",
        "\n",
        "  arpu_data[start_date] = [round(current_arpu, 2), round(left, 2), round(right, 2)]\n",
        "\n",
        "\n",
        "arpu_df = pd.DataFrame(list(arpu_data.items()), columns=['month', 'arpu_data'])\n",
        "arpu_df[['arpu', 'left', 'right']] = pd.DataFrame(arpu_df['arpu_data'].tolist(), index=arpu_df.index)\n",
        "\n",
        "\n",
        "plt.figure(figsize=(12, 6))\n",
        "\n",
        "plt.plot(arpu_df['month'], arpu_df['arpu'], marker='o', label='ARPU')\n",
        "\n",
        "plt.fill_between(arpu_df['month'], arpu_df['left'], arpu_df['right'], alpha=0.2, label='Доверительный интервал')\n",
        "\n",
        "plt.title('ARPU с доверительным интервалом')\n",
        "plt.xlabel('Месяц')\n",
        "plt.ylabel('ARPU')\n",
        "plt.legend()\n",
        "plt.grid(True)\n",
        "plt.xticks(rotation=45)\n",
        "\n",
        "plt.show()\n"
      ],
      "metadata": {
        "colab": {
          "base_uri": "https://localhost:8080/",
          "height": 606
        },
        "id": "KwNRbtj343MB",
        "outputId": "3e605f7f-e8d9-48f7-ec0c-3826342ea3b6"
      },
      "execution_count": null,
      "outputs": [
        {
          "output_type": "display_data",
          "data": {
            "text/plain": [
              "<Figure size 1200x600 with 1 Axes>"
            ],
            "image/png": "[encoded data removed]"
          },
          "metadata": {}
        }
      ]
    },
    {
      "cell_type": "code",
      "source": [],
      "metadata": {
        "id": "1r0M5tugABF2"
      },
      "execution_count": null,
      "outputs": []
    }
  ]
}